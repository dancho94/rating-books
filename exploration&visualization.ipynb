{
 "cells": [
  {
   "cell_type": "code",
   "execution_count": 2,
   "id": "1069f718-b92a-40cc-b2e8-e38351da0bcc",
   "metadata": {},
   "outputs": [
    {
     "name": "stdout",
     "output_type": "stream",
     "text": [
      "Requirement already satisfied: matplotlib in c:\\users\\danil\\venv\\lib\\site-packages (3.8.0)\n",
      "Requirement already satisfied: contourpy>=1.0.1 in c:\\users\\danil\\venv\\lib\\site-packages (from matplotlib) (1.1.1)\n",
      "Requirement already satisfied: cycler>=0.10 in c:\\users\\danil\\venv\\lib\\site-packages (from matplotlib) (0.12.1)\n",
      "Requirement already satisfied: fonttools>=4.22.0 in c:\\users\\danil\\venv\\lib\\site-packages (from matplotlib) (4.43.1)\n",
      "Requirement already satisfied: kiwisolver>=1.0.1 in c:\\users\\danil\\venv\\lib\\site-packages (from matplotlib) (1.4.5)\n",
      "Requirement already satisfied: numpy<2,>=1.21 in c:\\users\\danil\\venv\\lib\\site-packages (from matplotlib) (1.26.1)\n",
      "Requirement already satisfied: packaging>=20.0 in c:\\users\\danil\\venv\\lib\\site-packages (from matplotlib) (23.2)\n",
      "Requirement already satisfied: pillow>=6.2.0 in c:\\users\\danil\\venv\\lib\\site-packages (from matplotlib) (10.1.0)\n",
      "Requirement already satisfied: pyparsing>=2.3.1 in c:\\users\\danil\\venv\\lib\\site-packages (from matplotlib) (3.1.1)\n",
      "Requirement already satisfied: python-dateutil>=2.7 in c:\\users\\danil\\venv\\lib\\site-packages (from matplotlib) (2.8.2)\n",
      "Requirement already satisfied: six>=1.5 in c:\\users\\danil\\venv\\lib\\site-packages (from python-dateutil>=2.7->matplotlib) (1.16.0)\n",
      "Requirement already satisfied: seaborn in c:\\users\\danil\\venv\\lib\\site-packages (0.13.0)\n",
      "Requirement already satisfied: numpy!=1.24.0,>=1.20 in c:\\users\\danil\\venv\\lib\\site-packages (from seaborn) (1.26.1)\n",
      "Requirement already satisfied: pandas>=1.2 in c:\\users\\danil\\venv\\lib\\site-packages (from seaborn) (2.1.1)\n",
      "Requirement already satisfied: matplotlib!=3.6.1,>=3.3 in c:\\users\\danil\\venv\\lib\\site-packages (from seaborn) (3.8.0)\n",
      "Requirement already satisfied: contourpy>=1.0.1 in c:\\users\\danil\\venv\\lib\\site-packages (from matplotlib!=3.6.1,>=3.3->seaborn) (1.1.1)\n",
      "Requirement already satisfied: cycler>=0.10 in c:\\users\\danil\\venv\\lib\\site-packages (from matplotlib!=3.6.1,>=3.3->seaborn) (0.12.1)\n",
      "Requirement already satisfied: fonttools>=4.22.0 in c:\\users\\danil\\venv\\lib\\site-packages (from matplotlib!=3.6.1,>=3.3->seaborn) (4.43.1)\n",
      "Requirement already satisfied: kiwisolver>=1.0.1 in c:\\users\\danil\\venv\\lib\\site-packages (from matplotlib!=3.6.1,>=3.3->seaborn) (1.4.5)\n",
      "Requirement already satisfied: packaging>=20.0 in c:\\users\\danil\\venv\\lib\\site-packages (from matplotlib!=3.6.1,>=3.3->seaborn) (23.2)\n",
      "Requirement already satisfied: pillow>=6.2.0 in c:\\users\\danil\\venv\\lib\\site-packages (from matplotlib!=3.6.1,>=3.3->seaborn) (10.1.0)\n",
      "Requirement already satisfied: pyparsing>=2.3.1 in c:\\users\\danil\\venv\\lib\\site-packages (from matplotlib!=3.6.1,>=3.3->seaborn) (3.1.1)\n",
      "Requirement already satisfied: python-dateutil>=2.7 in c:\\users\\danil\\venv\\lib\\site-packages (from matplotlib!=3.6.1,>=3.3->seaborn) (2.8.2)\n",
      "Requirement already satisfied: pytz>=2020.1 in c:\\users\\danil\\venv\\lib\\site-packages (from pandas>=1.2->seaborn) (2023.3.post1)\n",
      "Requirement already satisfied: tzdata>=2022.1 in c:\\users\\danil\\venv\\lib\\site-packages (from pandas>=1.2->seaborn) (2023.3)\n",
      "Requirement already satisfied: six>=1.5 in c:\\users\\danil\\venv\\lib\\site-packages (from python-dateutil>=2.7->matplotlib!=3.6.1,>=3.3->seaborn) (1.16.0)\n",
      "Requirement already satisfied: pandas in c:\\users\\danil\\venv\\lib\\site-packages (2.1.1)\n",
      "Requirement already satisfied: numpy>=1.26.0 in c:\\users\\danil\\venv\\lib\\site-packages (from pandas) (1.26.1)\n",
      "Requirement already satisfied: python-dateutil>=2.8.2 in c:\\users\\danil\\venv\\lib\\site-packages (from pandas) (2.8.2)\n",
      "Requirement already satisfied: pytz>=2020.1 in c:\\users\\danil\\venv\\lib\\site-packages (from pandas) (2023.3.post1)\n",
      "Requirement already satisfied: tzdata>=2022.1 in c:\\users\\danil\\venv\\lib\\site-packages (from pandas) (2023.3)\n",
      "Requirement already satisfied: six>=1.5 in c:\\users\\danil\\venv\\lib\\site-packages (from python-dateutil>=2.8.2->pandas) (1.16.0)\n"
     ]
    }
   ],
   "source": [
    "!pip install matplotlib\n",
    "!pip install seaborn\n",
    "!pip install pandas\n",
    "import pandas as pd \n",
    "import matplotlib.pyplot as plt\n",
    "import seaborn as sns"
   ]
  },
  {
   "cell_type": "code",
   "execution_count": 3,
   "id": "39761e00-0ac0-45c9-97b6-f943d187f86d",
   "metadata": {},
   "outputs": [
    {
     "data": {
      "text/html": [
       "<div>\n",
       "<style scoped>\n",
       "    .dataframe tbody tr th:only-of-type {\n",
       "        vertical-align: middle;\n",
       "    }\n",
       "\n",
       "    .dataframe tbody tr th {\n",
       "        vertical-align: top;\n",
       "    }\n",
       "\n",
       "    .dataframe thead th {\n",
       "        text-align: right;\n",
       "    }\n",
       "</style>\n",
       "<table border=\"1\" class=\"dataframe\">\n",
       "  <thead>\n",
       "    <tr style=\"text-align: right;\">\n",
       "      <th></th>\n",
       "      <th>title</th>\n",
       "      <th>authors</th>\n",
       "      <th>average_rating</th>\n",
       "      <th>language_code</th>\n",
       "      <th>num_pages</th>\n",
       "      <th>ratings_count</th>\n",
       "      <th>text_reviews_count</th>\n",
       "      <th>publication_date</th>\n",
       "      <th>publisher</th>\n",
       "    </tr>\n",
       "  </thead>\n",
       "  <tbody>\n",
       "    <tr>\n",
       "      <th>0</th>\n",
       "      <td>Harry Potter and the Half-Blood Prince (Harry ...</td>\n",
       "      <td>J.K. Rowling/Mary GrandPré</td>\n",
       "      <td>4.57</td>\n",
       "      <td>eng</td>\n",
       "      <td>652</td>\n",
       "      <td>2095690</td>\n",
       "      <td>27591</td>\n",
       "      <td>2006-09-16</td>\n",
       "      <td>Scholastic Inc.</td>\n",
       "    </tr>\n",
       "    <tr>\n",
       "      <th>1</th>\n",
       "      <td>Harry Potter and the Order of the Phoenix (Har...</td>\n",
       "      <td>J.K. Rowling/Mary GrandPré</td>\n",
       "      <td>4.49</td>\n",
       "      <td>eng</td>\n",
       "      <td>870</td>\n",
       "      <td>2153167</td>\n",
       "      <td>29221</td>\n",
       "      <td>2004-09-01</td>\n",
       "      <td>Scholastic Inc.</td>\n",
       "    </tr>\n",
       "    <tr>\n",
       "      <th>2</th>\n",
       "      <td>Harry Potter and the Chamber of Secrets (Harry...</td>\n",
       "      <td>J.K. Rowling</td>\n",
       "      <td>4.42</td>\n",
       "      <td>eng</td>\n",
       "      <td>352</td>\n",
       "      <td>6333</td>\n",
       "      <td>244</td>\n",
       "      <td>2003-11-01</td>\n",
       "      <td>Scholastic</td>\n",
       "    </tr>\n",
       "    <tr>\n",
       "      <th>3</th>\n",
       "      <td>Harry Potter and the Prisoner of Azkaban (Harr...</td>\n",
       "      <td>J.K. Rowling/Mary GrandPré</td>\n",
       "      <td>4.56</td>\n",
       "      <td>eng</td>\n",
       "      <td>435</td>\n",
       "      <td>2339585</td>\n",
       "      <td>36325</td>\n",
       "      <td>2004-05-01</td>\n",
       "      <td>Scholastic Inc.</td>\n",
       "    </tr>\n",
       "    <tr>\n",
       "      <th>4</th>\n",
       "      <td>Harry Potter Boxed Set  Books 1-5 (Harry Potte...</td>\n",
       "      <td>J.K. Rowling/Mary GrandPré</td>\n",
       "      <td>4.78</td>\n",
       "      <td>eng</td>\n",
       "      <td>2690</td>\n",
       "      <td>41428</td>\n",
       "      <td>164</td>\n",
       "      <td>2004-09-13</td>\n",
       "      <td>Scholastic</td>\n",
       "    </tr>\n",
       "  </tbody>\n",
       "</table>\n",
       "</div>"
      ],
      "text/plain": [
       "                                               title  \\\n",
       "0  Harry Potter and the Half-Blood Prince (Harry ...   \n",
       "1  Harry Potter and the Order of the Phoenix (Har...   \n",
       "2  Harry Potter and the Chamber of Secrets (Harry...   \n",
       "3  Harry Potter and the Prisoner of Azkaban (Harr...   \n",
       "4  Harry Potter Boxed Set  Books 1-5 (Harry Potte...   \n",
       "\n",
       "                      authors  average_rating language_code    num_pages  \\\n",
       "0  J.K. Rowling/Mary GrandPré            4.57           eng          652   \n",
       "1  J.K. Rowling/Mary GrandPré            4.49           eng          870   \n",
       "2                J.K. Rowling            4.42           eng          352   \n",
       "3  J.K. Rowling/Mary GrandPré            4.56           eng          435   \n",
       "4  J.K. Rowling/Mary GrandPré            4.78           eng         2690   \n",
       "\n",
       "   ratings_count  text_reviews_count publication_date        publisher  \n",
       "0        2095690               27591       2006-09-16  Scholastic Inc.  \n",
       "1        2153167               29221       2004-09-01  Scholastic Inc.  \n",
       "2           6333                 244       2003-11-01       Scholastic  \n",
       "3        2339585               36325       2004-05-01  Scholastic Inc.  \n",
       "4          41428                 164       2004-09-13       Scholastic  "
      ]
     },
     "execution_count": 3,
     "metadata": {},
     "output_type": "execute_result"
    }
   ],
   "source": [
    "df = pd.read_csv('data/dataclean.csv')\n",
    "df.head()"
   ]
  },
  {
   "cell_type": "code",
   "execution_count": 4,
   "id": "68c51fcc-d77a-42c2-9641-d92f64f46560",
   "metadata": {},
   "outputs": [
    {
     "data": {
      "image/png": "[encoded data removed]",
      "text/plain": [
       "<Figure size 640x480 with 1 Axes>"
      ]
     },
     "metadata": {},
     "output_type": "display_data"
    }
   ],
   "source": [
    "matplot = df['  num_pages']\n",
    "\n",
    "fig, ax = plt.subplots()\n",
    "ax.plot(matplot)\n",
    "\n",
    "ax.yaxis.set_major_formatter('&{x:1.0f}')\n",
    "\n",
    "ax.yaxis.set_tick_params(which='major', labelcolor='green', labelleft=False, labelright=True)\n",
    "\n",
    "plt.show()"
   ]
  },
  {
   "cell_type": "code",
   "execution_count": 5,
   "id": "36851443-1131-4f05-b9f7-474252e013c4",
   "metadata": {},
   "outputs": [
    {
     "name": "stdout",
     "output_type": "stream",
     "text": [
      "<class 'pandas.core.frame.DataFrame'>\n",
      "RangeIndex: 11121 entries, 0 to 11120\n",
      "Data columns (total 9 columns):\n",
      " #   Column              Non-Null Count  Dtype  \n",
      "---  ------              --------------  -----  \n",
      " 0   title               11121 non-null  object \n",
      " 1   authors             11121 non-null  object \n",
      " 2   average_rating      11121 non-null  float64\n",
      " 3   language_code       11121 non-null  object \n",
      " 4     num_pages         11121 non-null  int64  \n",
      " 5   ratings_count       11121 non-null  int64  \n",
      " 6   text_reviews_count  11121 non-null  int64  \n",
      " 7   publication_date    11121 non-null  object \n",
      " 8   publisher           11121 non-null  object \n",
      "dtypes: float64(1), int64(3), object(5)\n",
      "memory usage: 782.1+ KB\n"
     ]
    }
   ],
   "source": [
    "df.info()"
   ]
  },
  {
   "cell_type": "code",
   "execution_count": 10,
   "id": "1abcbb9d-e0fe-4a0d-9c8a-a36443c912bf",
   "metadata": {},
   "outputs": [
    {
     "name": "stderr",
     "output_type": "stream",
     "text": [
      "ERROR: Could not find a version that satisfies the requirement etree (from versions: none)\n",
      "ERROR: No matching distribution found for etree\n"
     ]
    },
    {
     "ename": "ModuleNotFoundError",
     "evalue": "No module named 'xml.etree.ElemtTree'",
     "output_type": "error",
     "traceback": [
      "\u001b[1;31m---------------------------------------------------------------------------\u001b[0m",
      "\u001b[1;31mModuleNotFoundError\u001b[0m                       Traceback (most recent call last)",
      "Cell \u001b[1;32mIn[10], line 3\u001b[0m\n\u001b[0;32m      1\u001b[0m \u001b[38;5;28;01mimport\u001b[39;00m \u001b[38;5;21;01mio\u001b[39;00m\n\u001b[0;32m      2\u001b[0m get_ipython()\u001b[38;5;241m.\u001b[39msystem(\u001b[38;5;124m'\u001b[39m\u001b[38;5;124mpip install etree\u001b[39m\u001b[38;5;124m'\u001b[39m)\n\u001b[1;32m----> 3\u001b[0m \u001b[38;5;28;01mimport\u001b[39;00m \u001b[38;5;21;01mxml\u001b[39;00m\u001b[38;5;21;01m.\u001b[39;00m\u001b[38;5;21;01metree\u001b[39;00m\u001b[38;5;21;01m.\u001b[39;00m\u001b[38;5;21;01mElemtTree\u001b[39;00m \u001b[38;5;28;01mas\u001b[39;00m \u001b[38;5;21;01mET\u001b[39;00m\n\u001b[0;32m      5\u001b[0m \u001b[38;5;28;01mfrom\u001b[39;00m \u001b[38;5;21;01mmatplotlib\u001b[39;00m\u001b[38;5;21;01m.\u001b[39;00m\u001b[38;5;21;01mpatches\u001b[39;00m \u001b[38;5;28;01mimport\u001b[39;00m shadow\n",
      "\u001b[1;31mModuleNotFoundError\u001b[0m: No module named 'xml.etree.ElemtTree'"
     ]
    }
   ],
   "source": [
    "fig, ax = plt.subplots(figsize=(6,3), subplot_kw=dict(aspect=\"equal\"))\n",
    "\n",
    "col_lenguage = df['language_code']\n",
    "\n",
    "result = df['language_code'].value_counts().reset_index()\n",
    "\n",
    "wedgets, texts = ax.pie(result, wedgeprops=dict(width=0.5), startangle=-40)\n",
    "\n",
    "bbox_props = dict(boxstyle=\"square,pad=0.3\", fc=\"w\", ec=\"k\", lw=0.72)\n",
    "kw = dict(arrowprops=dict(arrowstyle=\"-\"),\n",
    "          bbox=bbox_props, zorder=0, va=\"center\")\n",
    "\n",
    "for i, p in enumerate(wedges):\n",
    "    ang = (p.theta2 - p.theta1)/2. + p.theta1\n",
    "    y = np.sin(np.deg2rad(ang))\n",
    "    x = np.cos(np.deg2rad(ang))\n",
    "    horizontalalignment = {-1: \"right\", 1: \"left\"}[int(np.sign(x))]\n",
    "    connectionstyle = f\"angle,angleA=0,angleB={ang}\"\n",
    "    kw[\"arrowsprops\"].update({\"connectionstyle\": connectionstyle})\n",
    "    ax.annotate(recipe[i], xy=(x, y), xytext=(1.35*np.sign(x), 1.4*y),\n",
    "               horizontalalignment=horizontalalignment, **kw)\n",
    "\n",
    "ax.set_title(\"percent\")"
   ]
  },
  {
   "cell_type": "code",
   "execution_count": 19,
   "id": "94cacbb3-4914-4ae5-a288-d738e7cf967c",
   "metadata": {},
   "outputs": [
    {
     "data": {
      "text/plain": [
       "([<matplotlib.patches.Wedge at 0x26530977e60>,\n",
       "  <matplotlib.patches.Wedge at 0x2652d8a59a0>,\n",
       "  <matplotlib.patches.Wedge at 0x26530494ce0>,\n",
       "  <matplotlib.patches.Wedge at 0x26530495580>,\n",
       "  <matplotlib.patches.Wedge at 0x26530496000>,\n",
       "  <matplotlib.patches.Wedge at 0x265304964e0>,\n",
       "  <matplotlib.patches.Wedge at 0x26530496a20>,\n",
       "  <matplotlib.patches.Wedge at 0x26530497110>,\n",
       "  <matplotlib.patches.Wedge at 0x26530497560>,\n",
       "  <matplotlib.patches.Wedge at 0x2652f7c9f70>,\n",
       "  <matplotlib.patches.Wedge at 0x2652f7ca330>,\n",
       "  <matplotlib.patches.Wedge at 0x2652a862c90>,\n",
       "  <matplotlib.patches.Wedge at 0x2652a8a6420>,\n",
       "  <matplotlib.patches.Wedge at 0x265304948f0>,\n",
       "  <matplotlib.patches.Wedge at 0x26530495c10>,\n",
       "  <matplotlib.patches.Wedge at 0x26530497a70>,\n",
       "  <matplotlib.patches.Wedge at 0x26530497fb0>,\n",
       "  <matplotlib.patches.Wedge at 0x265304844a0>,\n",
       "  <matplotlib.patches.Wedge at 0x265304849b0>,\n",
       "  <matplotlib.patches.Wedge at 0x26530484e90>,\n",
       "  <matplotlib.patches.Wedge at 0x265304853a0>,\n",
       "  <matplotlib.patches.Wedge at 0x265304859a0>,\n",
       "  <matplotlib.patches.Wedge at 0x26530485c10>,\n",
       "  <matplotlib.patches.Wedge at 0x265304863c0>,\n",
       "  <matplotlib.patches.Wedge at 0x265304868d0>,\n",
       "  <matplotlib.patches.Wedge at 0x26530486db0>,\n",
       "  <matplotlib.patches.Wedge at 0x26530487350>],\n",
       " [Text(-0.8917780667204843, 0.6439968010140078, '8907'),\n",
       "  Text(0.723395007618291, -0.828673435650578, '1408'),\n",
       "  Text(1.0158061294935776, -0.42206386635588333, '218'),\n",
       "  Text(1.0596308054846983, -0.29526692342328087, '214'),\n",
       "  Text(1.083973911556523, -0.18708436349639546, '143'),\n",
       "  Text(1.0942216156956814, -0.11260131324426413, '99'),\n",
       "  Text(1.0979147947053964, -0.0676986230805845, '46'),\n",
       "  Text(1.0989727228523538, -0.047528459121704815, '19'),\n",
       "  Text(1.0993680355851876, -0.03728166216205896, '14'),\n",
       "  Text(1.0996039116416498, -0.02951673258311301, '11'),\n",
       "  Text(1.0997596647454664, -0.0229930380537166, '10'),\n",
       "  Text(1.0998574035435453, -0.017711348634459074, '7'),\n",
       "  Text(1.0999111237136676, -0.013982844164805898, '5'),\n",
       "  Text(1.0999399152191631, -0.01149708257168781, '3'),\n",
       "  Text(1.0999578222206983, -0.009632722122989627, '3'),\n",
       "  Text(1.0999703308161948, -0.008079067032225233, '2'),\n",
       "  Text(1.0999787576632614, -0.006836131185701499, '2'),\n",
       "  Text(1.0999841561074744, -0.005903923485903508, '1'),\n",
       "  Text(1.099987316167559, -0.00528244928899412, '1'),\n",
       "  Text(1.099990125104271, -0.004660973405891281, '1'),\n",
       "  Text(1.0999925829167139, -0.004039496034974285, '1'),\n",
       "  Text(1.099994689604103, -0.0034180173746229015, '1'),\n",
       "  Text(1.099996445165766, -0.0027965376232173124, '1'),\n",
       "  Text(1.0999978496011424, -0.0021750569791380465, '1'),\n",
       "  Text(1.099998902909784, -0.0015535756407659186, '1'),\n",
       "  Text(1.0999996050913545, -0.000932093806481965, '1'),\n",
       "  Text(1.09999995614563, -0.0003106116746673798, '1')])"
      ]
     },
     "execution_count": 19,
     "metadata": {},
     "output_type": "execute_result"
    },
    {
     "data": {
      "image/png": "[encoded data removed]",
      "text/plain": [
       "<Figure size 640x480 with 1 Axes>"
      ]
     },
     "metadata": {},
     "output_type": "display_data"
    }
   ],
   "source": [
    "result = df['language_code'].value_counts()\n",
    "\n",
    "fig, ax = plt.subplots()\n",
    "\n",
    "ax.pie(result, labels=result)"
   ]
  },
  {
   "cell_type": "code",
   "execution_count": 18,
   "id": "7f3dc683-f513-4799-b755-c86f5027098d",
   "metadata": {},
   "outputs": [
    {
     "data": {
      "text/plain": [
       "language_code\n",
       "eng      8907\n",
       "en-US    1408\n",
       "spa       218\n",
       "en-GB     214\n",
       "fre       143\n",
       "ger        99\n",
       "jpn        46\n",
       "mul        19\n",
       "zho        14\n",
       "grc        11\n",
       "por        10\n",
       "en-CA       7\n",
       "ita         5\n",
       "enm         3\n",
       "lat         3\n",
       "swe         2\n",
       "rus         2\n",
       "srp         1\n",
       "nl          1\n",
       "msa         1\n",
       "glg         1\n",
       "wel         1\n",
       "ara         1\n",
       "nor         1\n",
       "tur         1\n",
       "gla         1\n",
       "ale         1\n",
       "Name: count, dtype: int64"
      ]
     },
     "execution_count": 18,
     "metadata": {},
     "output_type": "execute_result"
    }
   ],
   "source": [
    "col_lenguage = df['language_code'].value_counts()\n",
    "col_lenguage"
   ]
  },
  {
   "cell_type": "code",
   "execution_count": null,
   "id": "e1db7ba6-75d2-4e07-8252-d7ffb2438a88",
   "metadata": {},
   "outputs": [],
   "source": []
  }
 ],
 "metadata": {
  "kernelspec": {
   "display_name": "Python 3 (ipykernel)",
   "language": "python",
   "name": "python3"
  },
  "language_info": {
   "codemirror_mode": {
    "name": "ipython",
    "version": 3
   },
   "file_extension": ".py",
   "mimetype": "text/x-python",
   "name": "python",
   "nbconvert_exporter": "python",
   "pygments_lexer": "ipython3",
   "version": "3.12.0"
  }
 },
 "nbformat": 4,
 "nbformat_minor": 5
}
